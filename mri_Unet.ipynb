{
  "nbformat": 4,
  "nbformat_minor": 0,
  "metadata": {
    "colab": {
      "name": "mri_Unet.ipynb",
      "provenance": [],
      "collapsed_sections": []
    },
    "kernelspec": {
      "name": "python3",
      "display_name": "Python 3"
    },
    "accelerator": "GPU"
  },
  "cells": [
    {
      "cell_type": "code",
      "metadata": {
        "id": "7zw9LF5EqchY",
        "colab_type": "code",
        "colab": {
          "base_uri": "https://localhost:8080/",
          "height": 54
        },
        "outputId": "f4472242-dc0a-407e-8c59-c7e68af99d9f"
      },
      "source": [
        "from google.colab import drive\n",
        "drive.mount('/content/drive')"
      ],
      "execution_count": null,
      "outputs": [
        {
          "output_type": "stream",
          "text": [
            "Drive already mounted at /content/drive; to attempt to forcibly remount, call drive.mount(\"/content/drive\", force_remount=True).\n"
          ],
          "name": "stdout"
        }
      ]
    },
    {
      "cell_type": "code",
      "metadata": {
        "id": "1kUDL8cfqreR",
        "colab_type": "code",
        "colab": {}
      },
      "source": [
        "import numpy as np\n",
        "import os\n",
        "import random\n",
        "import re\n",
        "import glob\n",
        "from skimage import io\n",
        "from skimage import transform\n",
        "from PIL import Image"
      ],
      "execution_count": null,
      "outputs": []
    },
    {
      "cell_type": "code",
      "metadata": {
        "id": "J7bdYBYYjIcP",
        "colab_type": "code",
        "colab": {
          "base_uri": "https://localhost:8080/",
          "height": 802
        },
        "outputId": "8f73cb32-d346-4555-dea6-ee22cf7038f3"
      },
      "source": [
        "!pip install -U pydicom\n",
        "!pip install git+https://www.github.com/keras-team/keras-contrib.git\n",
        "!pip install utils\n",
        "!pip install scikit-image\n",
        "!pip install pillow"
      ],
      "execution_count": null,
      "outputs": [
        {
          "output_type": "stream",
          "text": [
            "Collecting pydicom\n",
            "\u001b[?25l  Downloading https://files.pythonhosted.org/packages/fc/d5/da1fdf3b967e324ee47a7ad9553c9b94c1193b6b98afd9eeda0efb76b9f7/pydicom-1.3.0-py2.py3-none-any.whl (7.1MB)\n",
            "\u001b[K     |████████████████████████████████| 7.1MB 2.6MB/s \n",
            "\u001b[?25hInstalling collected packages: pydicom\n",
            "Successfully installed pydicom-1.3.0\n",
            "Collecting git+https://www.github.com/keras-team/keras-contrib.git\n",
            "  Cloning https://www.github.com/keras-team/keras-contrib.git to /tmp/pip-req-build-k9it7pnc\n",
            "  Running command git clone -q https://www.github.com/keras-team/keras-contrib.git /tmp/pip-req-build-k9it7pnc\n",
            "Requirement already satisfied: keras in /usr/local/lib/python3.6/dist-packages (from keras-contrib==2.0.8) (2.2.5)\n",
            "Requirement already satisfied: six>=1.9.0 in /usr/local/lib/python3.6/dist-packages (from keras->keras-contrib==2.0.8) (1.12.0)\n",
            "Requirement already satisfied: keras-applications>=1.0.8 in /usr/local/lib/python3.6/dist-packages (from keras->keras-contrib==2.0.8) (1.0.8)\n",
            "Requirement already satisfied: pyyaml in /usr/local/lib/python3.6/dist-packages (from keras->keras-contrib==2.0.8) (3.13)\n",
            "Requirement already satisfied: keras-preprocessing>=1.1.0 in /usr/local/lib/python3.6/dist-packages (from keras->keras-contrib==2.0.8) (1.1.0)\n",
            "Requirement already satisfied: scipy>=0.14 in /usr/local/lib/python3.6/dist-packages (from keras->keras-contrib==2.0.8) (1.3.3)\n",
            "Requirement already satisfied: h5py in /usr/local/lib/python3.6/dist-packages (from keras->keras-contrib==2.0.8) (2.8.0)\n",
            "Requirement already satisfied: numpy>=1.9.1 in /usr/local/lib/python3.6/dist-packages (from keras->keras-contrib==2.0.8) (1.17.4)\n",
            "Building wheels for collected packages: keras-contrib\n",
            "  Building wheel for keras-contrib (setup.py) ... \u001b[?25l\u001b[?25hdone\n",
            "  Created wheel for keras-contrib: filename=keras_contrib-2.0.8-cp36-none-any.whl size=101065 sha256=4208636253dd61428119f01786dec6c918068424c49d66aa4cce2d4867113caf\n",
            "  Stored in directory: /tmp/pip-ephem-wheel-cache-by54pq3g/wheels/11/27/c8/4ed56de7b55f4f61244e2dc6ef3cdbaff2692527a2ce6502ba\n",
            "Successfully built keras-contrib\n",
            "Installing collected packages: keras-contrib\n",
            "Successfully installed keras-contrib-2.0.8\n",
            "Collecting utils\n",
            "  Downloading https://files.pythonhosted.org/packages/9b/de/9ffaf89be661b32d1e0cff05e1af5e4fc2d608c47498975e94aca219aed4/utils-0.9.0-py2.py3-none-any.whl\n",
            "Installing collected packages: utils\n",
            "Successfully installed utils-0.9.0\n",
            "Requirement already satisfied: scikit-image in /usr/local/lib/python3.6/dist-packages (0.15.0)\n",
            "Requirement already satisfied: imageio>=2.0.1 in /usr/local/lib/python3.6/dist-packages (from scikit-image) (2.4.1)\n",
            "Requirement already satisfied: pillow>=4.3.0 in /usr/local/lib/python3.6/dist-packages (from scikit-image) (4.3.0)\n",
            "Requirement already satisfied: scipy>=0.17.0 in /usr/local/lib/python3.6/dist-packages (from scikit-image) (1.3.3)\n",
            "Requirement already satisfied: PyWavelets>=0.4.0 in /usr/local/lib/python3.6/dist-packages (from scikit-image) (1.1.1)\n",
            "Requirement already satisfied: matplotlib!=3.0.0,>=2.0.0 in /usr/local/lib/python3.6/dist-packages (from scikit-image) (3.1.2)\n",
            "Requirement already satisfied: networkx>=2.0 in /usr/local/lib/python3.6/dist-packages (from scikit-image) (2.4)\n",
            "Requirement already satisfied: numpy in /usr/local/lib/python3.6/dist-packages (from imageio>=2.0.1->scikit-image) (1.17.4)\n",
            "Requirement already satisfied: olefile in /usr/local/lib/python3.6/dist-packages (from pillow>=4.3.0->scikit-image) (0.46)\n",
            "Requirement already satisfied: cycler>=0.10 in /usr/local/lib/python3.6/dist-packages (from matplotlib!=3.0.0,>=2.0.0->scikit-image) (0.10.0)\n",
            "Requirement already satisfied: kiwisolver>=1.0.1 in /usr/local/lib/python3.6/dist-packages (from matplotlib!=3.0.0,>=2.0.0->scikit-image) (1.1.0)\n",
            "Requirement already satisfied: pyparsing!=2.0.4,!=2.1.2,!=2.1.6,>=2.0.1 in /usr/local/lib/python3.6/dist-packages (from matplotlib!=3.0.0,>=2.0.0->scikit-image) (2.4.5)\n",
            "Requirement already satisfied: python-dateutil>=2.1 in /usr/local/lib/python3.6/dist-packages (from matplotlib!=3.0.0,>=2.0.0->scikit-image) (2.6.1)\n",
            "Requirement already satisfied: decorator>=4.3.0 in /usr/local/lib/python3.6/dist-packages (from networkx>=2.0->scikit-image) (4.4.1)\n",
            "Requirement already satisfied: six in /usr/local/lib/python3.6/dist-packages (from cycler>=0.10->matplotlib!=3.0.0,>=2.0.0->scikit-image) (1.12.0)\n",
            "Requirement already satisfied: setuptools in /usr/local/lib/python3.6/dist-packages (from kiwisolver>=1.0.1->matplotlib!=3.0.0,>=2.0.0->scikit-image) (42.0.2)\n",
            "Requirement already satisfied: pillow in /usr/local/lib/python3.6/dist-packages (4.3.0)\n",
            "Requirement already satisfied: olefile in /usr/local/lib/python3.6/dist-packages (from pillow) (0.46)\n"
          ],
          "name": "stdout"
        }
      ]
    },
    {
      "cell_type": "code",
      "metadata": {
        "id": "K2D8tXqOueiA",
        "colab_type": "code",
        "colab": {
          "base_uri": "https://localhost:8080/",
          "height": 80
        },
        "outputId": "dd4223e7-3238-4e51-cbe7-bb097b103848"
      },
      "source": [
        "from keras.preprocessing.image import ImageDataGenerator\n",
        "\n",
        "train_datagen = ImageDataGenerator(\n",
        "        rescale=1./255,\n",
        "        shear_range=0.2,\n",
        "        zoom_range=0.2,\n",
        "        horizontal_flip=True\n",
        "        )\n",
        "        \n",
        "val_datagen = ImageDataGenerator(rescale=1./255)"
      ],
      "execution_count": null,
      "outputs": [
        {
          "output_type": "stream",
          "text": [
            "Using TensorFlow backend.\n"
          ],
          "name": "stderr"
        },
        {
          "output_type": "display_data",
          "data": {
            "text/html": [
              "<p style=\"color: red;\">\n",
              "The default version of TensorFlow in Colab will soon switch to TensorFlow 2.x.<br>\n",
              "We recommend you <a href=\"https://www.tensorflow.org/guide/migrate\" target=\"_blank\">upgrade</a> now \n",
              "or ensure your notebook will continue to use TensorFlow 1.x via the <code>%tensorflow_version 1.x</code> magic:\n",
              "<a href=\"https://colab.research.google.com/notebooks/tensorflow_version.ipynb\" target=\"_blank\">more info</a>.</p>\n"
            ],
            "text/plain": [
              "<IPython.core.display.HTML object>"
            ]
          },
          "metadata": {
            "tags": []
          }
        }
      ]
    },
    {
      "cell_type": "code",
      "metadata": {
        "id": "d_RXlhlRuv1r",
        "colab_type": "code",
        "colab": {
          "base_uri": "https://localhost:8080/",
          "height": 85
        },
        "outputId": "eb1a5e02-420c-4b34-e81e-40a9f5a41413"
      },
      "source": [
        "train_image_generator = train_datagen.flow_from_directory(\n",
        "'/content/drive/My Drive/data/mri/train_frames/',\n",
        "class_mode=None,\n",
        "color_mode=\"grayscale\",\n",
        "batch_size = 2 )\n",
        "\n",
        "train_mask_generator = train_datagen.flow_from_directory(\n",
        "'/content/drive/My Drive/data/mri/train_masks/',\n",
        "class_mode=None,\n",
        "color_mode=\"grayscale\",\n",
        "batch_size = 2 )\n",
        "\n",
        "val_image_generator = val_datagen.flow_from_directory(\n",
        "'/content/drive/My Drive/data/mri/val_frames/',\n",
        "class_mode=None,\n",
        "color_mode=\"grayscale\",\n",
        "batch_size = 2 )\n",
        "\n",
        "\n",
        "val_mask_generator = val_datagen.flow_from_directory(\n",
        "'/content/drive/My Drive/data/mri/val_masks/',\n",
        "class_mode=None,\n",
        "color_mode=\"grayscale\",\n",
        "batch_size = 2 )\n",
        "\n",
        "train_generator = zip(train_image_generator, train_mask_generator)\n",
        "val_generator = zip(val_image_generator, val_mask_generator)"
      ],
      "execution_count": null,
      "outputs": [
        {
          "output_type": "stream",
          "text": [
            "Found 42 images belonging to 1 classes.\n",
            "Found 42 images belonging to 1 classes.\n",
            "Found 12 images belonging to 1 classes.\n",
            "Found 12 images belonging to 1 classes.\n"
          ],
          "name": "stdout"
        }
      ]
    },
    {
      "cell_type": "code",
      "metadata": {
        "id": "3g-TAdegL9Bg",
        "colab_type": "code",
        "colab": {
          "base_uri": "https://localhost:8080/",
          "height": 269
        },
        "outputId": "a58105b8-fc57-4964-85ab-41c9be2a510f"
      },
      "source": [
        "from numpy import expand_dims\n",
        "from keras.preprocessing.image import load_img\n",
        "from keras.preprocessing.image import img_to_array\n",
        "from keras.preprocessing.image import ImageDataGenerator\n",
        "from matplotlib import pyplot\n",
        "img = load_img('/content/drive/My Drive/data/mri/train_frames/train/10cineSax_00010.jpg')\n",
        "# convert to numpy array\n",
        "data = img_to_array(img)\n",
        "# expand dimension to one sample\n",
        "samples = expand_dims(data, 0)\n",
        "# create image data augmentation generator\n",
        "datagen = ImageDataGenerator(rescale=1./255, height_shift_range=0.5)\n",
        "# prepare iterator\n",
        "it = datagen.flow(samples, batch_size=1)\n",
        "# generate samples and plot\n",
        "for i in range(9):\n",
        "\t# define subplot\n",
        "\tpyplot.subplot(330 + 1 + i)\n",
        "\t# generate batch of images\n",
        "\tbatch = it.next()\n",
        "\t# convert to unsigned integers for viewing\n",
        "\timage = batch[0]\n",
        "\t# plot raw pixel data\n",
        "\tpyplot.imshow(image)\n",
        "# show the figure\n",
        "pyplot.show()"
      ],
      "execution_count": null,
      "outputs": [
        {
          "output_type": "display_data",
          "data": {
            "image/png": "[encoded data removed]",
            "text/plain": [
              "<Figure size 432x288 with 9 Axes>"
            ]
          },
          "metadata": {
            "tags": []
          }
        }
      ]
    },
    {
      "cell_type": "code",
      "metadata": {
        "id": "p-f8JfqhBDNj",
        "colab_type": "code",
        "colab": {}
      },
      "source": [
        "def testGenerator(test_path,num_image = 30,target_size = (256,256),flag_multi_class = False,as_gray = True):\n",
        "    for i in range(num_image):\n",
        "        img = io.imread(os.path.join(test_path,\"%d.jpg\"%i),as_gray = as_gray)\n",
        "        img = img / 255\n",
        "        img = transform.resize(img,target_size)\n",
        "        img = np.reshape(img,img.shape+(1,)) if (not flag_multi_class) else img\n",
        "        img = np.reshape(img,(1,)+img.shape)\n",
        "        yield img\n",
        "\n",
        "def saveResult(save_path,npyfile,flag_multi_class = False,num_class = 2):\n",
        "    for i,item in enumerate(npyfile):\n",
        "        img = labelVisualize(num_class,COLOR_DICT,item) if flag_multi_class else item[:,:,0]\n",
        "        io.imsave(os.path.join(save_path,\"%d_predict.jpg\"%i),img)"
      ],
      "execution_count": null,
      "outputs": []
    },
    {
      "cell_type": "code",
      "metadata": {
        "id": "w8O08ufkAKCC",
        "colab_type": "code",
        "colab": {
          "base_uri": "https://localhost:8080/",
          "height": 1000
        },
        "outputId": "13db5c82-1758-4d5d-98fc-a5db4d65fd29"
      },
      "source": [
        "import sys\n",
        "sys.path.append('/content/drive/My Drive/data')\n",
        "from keras.callbacks import ModelCheckpoint\n",
        "from keras.callbacks import CSVLogger\n",
        "from keras.callbacks import EarlyStopping\n",
        "from keras.optimizers import Adam\n",
        "import model\n",
        "\n",
        "NO_OF_TRAINING_IMAGES = len(os.listdir('/content/drive/My Drive/data/mri/train_frames/train/'))\n",
        "NO_OF_VAL_IMAGES = len(os.listdir('/content/drive/My Drive/data/mri/val_frames/val/'))\n",
        "\n",
        "NO_OF_EPOCHS = 30\n",
        "BATCH_SIZE = 2\n",
        "weights_path = '/content/drive/My Drive/data/mri/'\n",
        "\n",
        "m = model.unet()\n",
        "opt = Adam(lr=1E-5, beta_1=0.9, beta_2=0.999, epsilon=1e-08)\n",
        "\n",
        "m.compile(loss='binary_crossentropy',\n",
        "              optimizer=opt,\n",
        "              metrics=['accuracy'])\n",
        "\n",
        "checkpoint = ModelCheckpoint(weights_path, monitor='METRIC_TO_MONITOR', \n",
        "                             verbose=1, save_best_only=True, mode='max')\n",
        "\n",
        "csv_logger = CSVLogger('./log.out', append=True, separator=';')\n",
        "\n",
        "earlystopping = EarlyStopping(monitor = 'METRIC_TO_MONITOR', verbose = 1,\n",
        "                              min_delta = 0.01, patience = 3, mode = 'max')\n",
        "\n",
        "callbacks_list = [checkpoint, csv_logger, earlystopping]\n",
        "\n",
        "hist = m.fit_generator(train_generator, epochs=NO_OF_EPOCHS, \n",
        "                          steps_per_epoch = (NO_OF_TRAINING_IMAGES//BATCH_SIZE),\n",
        "                          validation_data=val_generator, \n",
        "                          validation_steps=(NO_OF_VAL_IMAGES//BATCH_SIZE), \n",
        "                          callbacks=callbacks_list)\n",
        "m.save('Model.h5')"
      ],
      "execution_count": null,
      "outputs": [
        {
          "output_type": "stream",
          "text": [
            "WARNING:tensorflow:From /usr/local/lib/python3.6/dist-packages/keras/backend/tensorflow_backend.py:66: The name tf.get_default_graph is deprecated. Please use tf.compat.v1.get_default_graph instead.\n",
            "\n",
            "WARNING:tensorflow:From /usr/local/lib/python3.6/dist-packages/keras/backend/tensorflow_backend.py:541: The name tf.placeholder is deprecated. Please use tf.compat.v1.placeholder instead.\n",
            "\n",
            "WARNING:tensorflow:From /usr/local/lib/python3.6/dist-packages/keras/backend/tensorflow_backend.py:4479: The name tf.truncated_normal is deprecated. Please use tf.random.truncated_normal instead.\n",
            "\n",
            "WARNING:tensorflow:From /usr/local/lib/python3.6/dist-packages/keras/backend/tensorflow_backend.py:4267: The name tf.nn.max_pool is deprecated. Please use tf.nn.max_pool2d instead.\n",
            "\n",
            "WARNING:tensorflow:From /usr/local/lib/python3.6/dist-packages/keras/backend/tensorflow_backend.py:148: The name tf.placeholder_with_default is deprecated. Please use tf.compat.v1.placeholder_with_default instead.\n",
            "\n",
            "WARNING:tensorflow:From /usr/local/lib/python3.6/dist-packages/keras/backend/tensorflow_backend.py:3733: calling dropout (from tensorflow.python.ops.nn_ops) with keep_prob is deprecated and will be removed in a future version.\n",
            "Instructions for updating:\n",
            "Please use `rate` instead of `keep_prob`. Rate should be set to `rate = 1 - keep_prob`.\n",
            "WARNING:tensorflow:From /usr/local/lib/python3.6/dist-packages/keras/backend/tensorflow_backend.py:2239: The name tf.image.resize_nearest_neighbor is deprecated. Please use tf.compat.v1.image.resize_nearest_neighbor instead.\n",
            "\n",
            "WARNING:tensorflow:From /usr/local/lib/python3.6/dist-packages/keras/backend/tensorflow_backend.py:4432: The name tf.random_uniform is deprecated. Please use tf.random.uniform instead.\n",
            "\n",
            "WARNING:tensorflow:From /usr/local/lib/python3.6/dist-packages/keras/optimizers.py:793: The name tf.train.Optimizer is deprecated. Please use tf.compat.v1.train.Optimizer instead.\n",
            "\n",
            "WARNING:tensorflow:From /usr/local/lib/python3.6/dist-packages/keras/backend/tensorflow_backend.py:3657: The name tf.log is deprecated. Please use tf.math.log instead.\n",
            "\n",
            "WARNING:tensorflow:From /usr/local/lib/python3.6/dist-packages/tensorflow_core/python/ops/nn_impl.py:183: where (from tensorflow.python.ops.array_ops) is deprecated and will be removed in a future version.\n",
            "Instructions for updating:\n",
            "Use tf.where in 2.0, which has the same broadcast rule as np.where\n"
          ],
          "name": "stdout"
        },
        {
          "output_type": "stream",
          "text": [
            "/content/drive/My Drive/data/model.py:55: UserWarning: Update your `Model` call to the Keras 2 API: `Model(inputs=Tensor(\"in..., outputs=Tensor(\"co...)`\n",
            "  model = Model(input = inputs, output = conv10)\n"
          ],
          "name": "stderr"
        },
        {
          "output_type": "stream",
          "text": [
            "WARNING:tensorflow:From /usr/local/lib/python3.6/dist-packages/keras/backend/tensorflow_backend.py:1033: The name tf.assign_add is deprecated. Please use tf.compat.v1.assign_add instead.\n",
            "\n",
            "WARNING:tensorflow:From /usr/local/lib/python3.6/dist-packages/keras/backend/tensorflow_backend.py:1020: The name tf.assign is deprecated. Please use tf.compat.v1.assign instead.\n",
            "\n",
            "WARNING:tensorflow:From /usr/local/lib/python3.6/dist-packages/keras/backend/tensorflow_backend.py:3005: The name tf.Session is deprecated. Please use tf.compat.v1.Session instead.\n",
            "\n",
            "Epoch 1/30\n",
            "WARNING:tensorflow:From /usr/local/lib/python3.6/dist-packages/keras/backend/tensorflow_backend.py:190: The name tf.get_default_session is deprecated. Please use tf.compat.v1.get_default_session instead.\n",
            "\n",
            "WARNING:tensorflow:From /usr/local/lib/python3.6/dist-packages/keras/backend/tensorflow_backend.py:197: The name tf.ConfigProto is deprecated. Please use tf.compat.v1.ConfigProto instead.\n",
            "\n",
            "WARNING:tensorflow:From /usr/local/lib/python3.6/dist-packages/keras/backend/tensorflow_backend.py:207: The name tf.global_variables is deprecated. Please use tf.compat.v1.global_variables instead.\n",
            "\n",
            "WARNING:tensorflow:From /usr/local/lib/python3.6/dist-packages/keras/backend/tensorflow_backend.py:216: The name tf.is_variable_initialized is deprecated. Please use tf.compat.v1.is_variable_initialized instead.\n",
            "\n",
            "WARNING:tensorflow:From /usr/local/lib/python3.6/dist-packages/keras/backend/tensorflow_backend.py:223: The name tf.variables_initializer is deprecated. Please use tf.compat.v1.variables_initializer instead.\n",
            "\n",
            "21/21 [==============================] - 47s 2s/step - loss: 0.4524 - acc: 0.8684 - val_loss: 0.3682 - val_acc: 0.9518\n",
            "Epoch 2/30\n",
            " 2/21 [=>............................] - ETA: 1s - loss: 0.3787 - acc: 0.9389"
          ],
          "name": "stdout"
        },
        {
          "output_type": "stream",
          "text": [
            "/usr/local/lib/python3.6/dist-packages/keras/callbacks.py:707: RuntimeWarning: Can save best model only with METRIC_TO_MONITOR available, skipping.\n",
            "  'skipping.' % (self.monitor), RuntimeWarning)\n",
            "/usr/local/lib/python3.6/dist-packages/keras/callbacks.py:842: RuntimeWarning: Early stopping conditioned on metric `METRIC_TO_MONITOR` which is not available. Available metrics are: val_loss,val_acc,loss,acc\n",
            "  (self.monitor, ','.join(list(logs.keys()))), RuntimeWarning\n"
          ],
          "name": "stderr"
        },
        {
          "output_type": "stream",
          "text": [
            "21/21 [==============================] - 2s 110ms/step - loss: 0.3293 - acc: 0.9415 - val_loss: 0.3297 - val_acc: 0.9519\n",
            "Epoch 3/30\n",
            "21/21 [==============================] - 2s 111ms/step - loss: 0.2656 - acc: 0.9426 - val_loss: 0.3162 - val_acc: 0.9524\n",
            "Epoch 4/30\n",
            "21/21 [==============================] - 2s 111ms/step - loss: 0.1888 - acc: 0.9416 - val_loss: 0.2972 - val_acc: 0.9534\n",
            "Epoch 5/30\n",
            "21/21 [==============================] - 2s 111ms/step - loss: 0.1374 - acc: 0.9426 - val_loss: 0.2299 - val_acc: 0.9557\n",
            "Epoch 6/30\n",
            "21/21 [==============================] - 2s 110ms/step - loss: 0.1097 - acc: 0.9416 - val_loss: 0.1745 - val_acc: 0.9553\n",
            "Epoch 7/30\n",
            "21/21 [==============================] - 2s 110ms/step - loss: 0.0976 - acc: 0.9433 - val_loss: 0.2007 - val_acc: 0.9555\n",
            "Epoch 8/30\n",
            "21/21 [==============================] - 2s 111ms/step - loss: 0.0921 - acc: 0.9440 - val_loss: 0.1893 - val_acc: 0.9558\n",
            "Epoch 9/30\n",
            "21/21 [==============================] - 2s 111ms/step - loss: 0.0886 - acc: 0.9443 - val_loss: 0.1828 - val_acc: 0.9558\n",
            "Epoch 10/30\n",
            "21/21 [==============================] - 2s 110ms/step - loss: 0.0820 - acc: 0.9462 - val_loss: 0.1797 - val_acc: 0.9557\n",
            "Epoch 11/30\n",
            "21/21 [==============================] - 2s 110ms/step - loss: 0.0791 - acc: 0.9429 - val_loss: 0.1483 - val_acc: 0.9554\n",
            "Epoch 12/30\n",
            "21/21 [==============================] - 2s 110ms/step - loss: 0.0758 - acc: 0.9460 - val_loss: 0.1504 - val_acc: 0.9558\n",
            "Epoch 13/30\n",
            "21/21 [==============================] - 2s 112ms/step - loss: 0.0777 - acc: 0.9456 - val_loss: 0.1787 - val_acc: 0.9558\n",
            "Epoch 14/30\n",
            "21/21 [==============================] - 2s 111ms/step - loss: 0.0812 - acc: 0.9454 - val_loss: 0.1333 - val_acc: 0.9558\n",
            "Epoch 15/30\n",
            "21/21 [==============================] - 2s 110ms/step - loss: 0.0765 - acc: 0.9433 - val_loss: 0.1495 - val_acc: 0.9558\n",
            "Epoch 16/30\n",
            "21/21 [==============================] - 2s 112ms/step - loss: 0.0789 - acc: 0.9448 - val_loss: 0.1095 - val_acc: 0.9558\n",
            "Epoch 17/30\n",
            "21/21 [==============================] - 2s 111ms/step - loss: 0.0786 - acc: 0.9421 - val_loss: 0.1343 - val_acc: 0.9558\n",
            "Epoch 18/30\n",
            "21/21 [==============================] - 2s 111ms/step - loss: 0.0782 - acc: 0.9425 - val_loss: 0.1313 - val_acc: 0.9558\n",
            "Epoch 19/30\n",
            "21/21 [==============================] - 2s 112ms/step - loss: 0.0791 - acc: 0.9423 - val_loss: 0.1151 - val_acc: 0.9558\n",
            "Epoch 20/30\n",
            "21/21 [==============================] - 2s 111ms/step - loss: 0.0747 - acc: 0.9449 - val_loss: 0.1411 - val_acc: 0.9558\n",
            "Epoch 21/30\n",
            "21/21 [==============================] - 2s 111ms/step - loss: 0.0758 - acc: 0.9442 - val_loss: 0.1197 - val_acc: 0.9558\n",
            "Epoch 22/30\n",
            "21/21 [==============================] - 2s 110ms/step - loss: 0.0841 - acc: 0.9399 - val_loss: 0.1397 - val_acc: 0.9558\n",
            "Epoch 23/30\n",
            "21/21 [==============================] - 2s 111ms/step - loss: 0.0745 - acc: 0.9461 - val_loss: 0.1387 - val_acc: 0.9558\n",
            "Epoch 24/30\n",
            "21/21 [==============================] - 2s 110ms/step - loss: 0.0732 - acc: 0.9450 - val_loss: 0.1214 - val_acc: 0.9558\n",
            "Epoch 25/30\n",
            "21/21 [==============================] - 2s 110ms/step - loss: 0.0743 - acc: 0.9439 - val_loss: 0.1018 - val_acc: 0.9558\n",
            "Epoch 26/30\n",
            "21/21 [==============================] - 2s 110ms/step - loss: 0.0710 - acc: 0.9467 - val_loss: 0.1159 - val_acc: 0.9558\n",
            "Epoch 27/30\n",
            "21/21 [==============================] - 2s 110ms/step - loss: 0.0724 - acc: 0.9448 - val_loss: 0.1022 - val_acc: 0.9558\n",
            "Epoch 28/30\n",
            "21/21 [==============================] - 2s 110ms/step - loss: 0.0758 - acc: 0.9426 - val_loss: 0.1330 - val_acc: 0.9558\n",
            "Epoch 29/30\n",
            "21/21 [==============================] - 2s 111ms/step - loss: 0.0724 - acc: 0.9452 - val_loss: 0.1102 - val_acc: 0.9558\n",
            "Epoch 30/30\n",
            "21/21 [==============================] - 2s 110ms/step - loss: 0.0757 - acc: 0.9424 - val_loss: 0.1119 - val_acc: 0.9558\n"
          ],
          "name": "stdout"
        }
      ]
    },
    {
      "cell_type": "code",
      "metadata": {
        "id": "G3PPu0byxxcn",
        "colab_type": "code",
        "colab": {
          "base_uri": "https://localhost:8080/",
          "height": 300
        },
        "outputId": "a6d6d19b-0142-4776-bba7-47b6b6182b09"
      },
      "source": [
        "import matplotlib.pyplot as plt\n",
        "plt.plot(hist.history['acc'], label='acc')\n",
        "plt.plot(hist.history['val_acc'], label='val_acc')\n",
        "plt.xlabel('Epoch')\n",
        "plt.ylabel('Accuracy')"
      ],
      "execution_count": null,
      "outputs": [
        {
          "output_type": "execute_result",
          "data": {
            "text/plain": [
              "Text(0, 0.5, 'Accuracy')"
            ]
          },
          "metadata": {
            "tags": []
          },
          "execution_count": 13
        },
        {
          "output_type": "display_data",
          "data": {
            "image/png": "[encoded data removed]",
            "text/plain": [
              "<Figure size 432x288 with 1 Axes>"
            ]
          },
          "metadata": {
            "tags": []
          }
        }
      ]
    },
    {
      "cell_type": "code",
      "metadata": {
        "id": "B7PcdAF9nueK",
        "colab_type": "code",
        "colab": {
          "base_uri": "https://localhost:8080/",
          "height": 122
        },
        "outputId": "f948495a-e023-40c0-d4b9-55d6b65d7c70"
      },
      "source": [
        "testGene = testGenerator(\"/content/drive/My Drive/data/mri/test/\")\n",
        "results = m.predict_generator(testGene,4,verbose=1)\n",
        "saveResult(\"/content/drive/My Drive/data/mri/test/\",results)"
      ],
      "execution_count": null,
      "outputs": [
        {
          "output_type": "stream",
          "text": [
            "4/4 [==============================] - 2s 465ms/step\n"
          ],
          "name": "stdout"
        },
        {
          "output_type": "stream",
          "text": [
            "WARNING:root:Lossy conversion from float32 to uint8. Range [0, 1]. Convert image to uint8 prior to saving to suppress this warning.\n",
            "WARNING:root:Lossy conversion from float32 to uint8. Range [0, 1]. Convert image to uint8 prior to saving to suppress this warning.\n",
            "WARNING:root:Lossy conversion from float32 to uint8. Range [0, 1]. Convert image to uint8 prior to saving to suppress this warning.\n",
            "WARNING:root:Lossy conversion from float32 to uint8. Range [0, 1]. Convert image to uint8 prior to saving to suppress this warning.\n"
          ],
          "name": "stderr"
        }
      ]
    }
  ]
}